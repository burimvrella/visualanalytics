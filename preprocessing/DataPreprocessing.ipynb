{
 "cells": [
  {
   "cell_type": "code",
   "execution_count": 1,
   "metadata": {
    "collapsed": true,
    "ExecuteTime": {
     "end_time": "2023-06-16T14:58:30.782480025Z",
     "start_time": "2023-06-16T14:58:30.149570161Z"
    }
   },
   "outputs": [],
   "source": [
    "import pandas as pd\n",
    "from sklearn import preprocessing"
   ]
  },
  {
   "cell_type": "code",
   "execution_count": 4,
   "outputs": [],
   "source": [
    "df = pd.read_csv('Data/survey_results_public.csv') #not included in the repo"
   ],
   "metadata": {
    "collapsed": false,
    "ExecuteTime": {
     "end_time": "2023-06-16T14:59:37.426392797Z",
     "start_time": "2023-06-16T14:59:35.989489688Z"
    }
   }
  },
  {
   "cell_type": "code",
   "execution_count": 5,
   "outputs": [
    {
     "data": {
      "text/plain": "   ResponseId                                         MainBranch  \\\n0           1                                      None of these   \n1           2                     I am a developer by profession   \n2           3  I am not primarily a developer, but I write co...   \n3           4                     I am a developer by profession   \n4           5                     I am a developer by profession   \n\n            Employment                            RemoteWork  \\\n0                  NaN                                   NaN   \n1  Employed, full-time                          Fully remote   \n2  Employed, full-time  Hybrid (some remote, some in-person)   \n3  Employed, full-time                          Fully remote   \n4  Employed, full-time  Hybrid (some remote, some in-person)   \n\n                           CodingActivities  \\\n0                                       NaN   \n1  Hobby;Contribute to open-source projects   \n2                                     Hobby   \n3              I don’t code outside of work   \n4                                     Hobby   \n\n                                           EdLevel  \\\n0                                              NaN   \n1                                              NaN   \n2  Master’s degree (M.A., M.S., M.Eng., MBA, etc.)   \n3     Bachelor’s degree (B.A., B.S., B.Eng., etc.)   \n4     Bachelor’s degree (B.A., B.S., B.Eng., etc.)   \n\n                                           LearnCode  \\\n0                                                NaN   \n1                                                NaN   \n2  Books / Physical media;Friend or family member...   \n3  Books / Physical media;School (i.e., Universit...   \n4  Other online resources (e.g., videos, blogs, f...   \n\n                                     LearnCodeOnline LearnCodeCoursesCert  \\\n0                                                NaN                  NaN   \n1                                                NaN                  NaN   \n2  Technical documentation;Blogs;Programming Game...                  NaN   \n3                                                NaN                  NaN   \n4  Technical documentation;Blogs;Stack Overflow;O...                  NaN   \n\n  YearsCode  ... TimeSearching TimeAnswering Onboarding ProfessionalTech  \\\n0       NaN  ...           NaN           NaN        NaN              NaN   \n1       NaN  ...           NaN           NaN        NaN              NaN   \n2        14  ...           NaN           NaN        NaN              NaN   \n3        20  ...           NaN           NaN        NaN              NaN   \n4         8  ...           NaN           NaN        NaN              NaN   \n\n  TrueFalse_1 TrueFalse_2 TrueFalse_3           SurveyLength  \\\n0         NaN         NaN         NaN                    NaN   \n1         NaN         NaN         NaN               Too long   \n2         NaN         NaN         NaN  Appropriate in length   \n3         NaN         NaN         NaN  Appropriate in length   \n4         NaN         NaN         NaN               Too long   \n\n                   SurveyEase ConvertedCompYearly  \n0                         NaN                 NaN  \n1                   Difficult                 NaN  \n2  Neither easy nor difficult             40205.0  \n3                        Easy            215232.0  \n4                        Easy                 NaN  \n\n[5 rows x 79 columns]",
      "text/html": "<div>\n<style scoped>\n    .dataframe tbody tr th:only-of-type {\n        vertical-align: middle;\n    }\n\n    .dataframe tbody tr th {\n        vertical-align: top;\n    }\n\n    .dataframe thead th {\n        text-align: right;\n    }\n</style>\n<table border=\"1\" class=\"dataframe\">\n  <thead>\n    <tr style=\"text-align: right;\">\n      <th></th>\n      <th>ResponseId</th>\n      <th>MainBranch</th>\n      <th>Employment</th>\n      <th>RemoteWork</th>\n      <th>CodingActivities</th>\n      <th>EdLevel</th>\n      <th>LearnCode</th>\n      <th>LearnCodeOnline</th>\n      <th>LearnCodeCoursesCert</th>\n      <th>YearsCode</th>\n      <th>...</th>\n      <th>TimeSearching</th>\n      <th>TimeAnswering</th>\n      <th>Onboarding</th>\n      <th>ProfessionalTech</th>\n      <th>TrueFalse_1</th>\n      <th>TrueFalse_2</th>\n      <th>TrueFalse_3</th>\n      <th>SurveyLength</th>\n      <th>SurveyEase</th>\n      <th>ConvertedCompYearly</th>\n    </tr>\n  </thead>\n  <tbody>\n    <tr>\n      <th>0</th>\n      <td>1</td>\n      <td>None of these</td>\n      <td>NaN</td>\n      <td>NaN</td>\n      <td>NaN</td>\n      <td>NaN</td>\n      <td>NaN</td>\n      <td>NaN</td>\n      <td>NaN</td>\n      <td>NaN</td>\n      <td>...</td>\n      <td>NaN</td>\n      <td>NaN</td>\n      <td>NaN</td>\n      <td>NaN</td>\n      <td>NaN</td>\n      <td>NaN</td>\n      <td>NaN</td>\n      <td>NaN</td>\n      <td>NaN</td>\n      <td>NaN</td>\n    </tr>\n    <tr>\n      <th>1</th>\n      <td>2</td>\n      <td>I am a developer by profession</td>\n      <td>Employed, full-time</td>\n      <td>Fully remote</td>\n      <td>Hobby;Contribute to open-source projects</td>\n      <td>NaN</td>\n      <td>NaN</td>\n      <td>NaN</td>\n      <td>NaN</td>\n      <td>NaN</td>\n      <td>...</td>\n      <td>NaN</td>\n      <td>NaN</td>\n      <td>NaN</td>\n      <td>NaN</td>\n      <td>NaN</td>\n      <td>NaN</td>\n      <td>NaN</td>\n      <td>Too long</td>\n      <td>Difficult</td>\n      <td>NaN</td>\n    </tr>\n    <tr>\n      <th>2</th>\n      <td>3</td>\n      <td>I am not primarily a developer, but I write co...</td>\n      <td>Employed, full-time</td>\n      <td>Hybrid (some remote, some in-person)</td>\n      <td>Hobby</td>\n      <td>Master’s degree (M.A., M.S., M.Eng., MBA, etc.)</td>\n      <td>Books / Physical media;Friend or family member...</td>\n      <td>Technical documentation;Blogs;Programming Game...</td>\n      <td>NaN</td>\n      <td>14</td>\n      <td>...</td>\n      <td>NaN</td>\n      <td>NaN</td>\n      <td>NaN</td>\n      <td>NaN</td>\n      <td>NaN</td>\n      <td>NaN</td>\n      <td>NaN</td>\n      <td>Appropriate in length</td>\n      <td>Neither easy nor difficult</td>\n      <td>40205.0</td>\n    </tr>\n    <tr>\n      <th>3</th>\n      <td>4</td>\n      <td>I am a developer by profession</td>\n      <td>Employed, full-time</td>\n      <td>Fully remote</td>\n      <td>I don’t code outside of work</td>\n      <td>Bachelor’s degree (B.A., B.S., B.Eng., etc.)</td>\n      <td>Books / Physical media;School (i.e., Universit...</td>\n      <td>NaN</td>\n      <td>NaN</td>\n      <td>20</td>\n      <td>...</td>\n      <td>NaN</td>\n      <td>NaN</td>\n      <td>NaN</td>\n      <td>NaN</td>\n      <td>NaN</td>\n      <td>NaN</td>\n      <td>NaN</td>\n      <td>Appropriate in length</td>\n      <td>Easy</td>\n      <td>215232.0</td>\n    </tr>\n    <tr>\n      <th>4</th>\n      <td>5</td>\n      <td>I am a developer by profession</td>\n      <td>Employed, full-time</td>\n      <td>Hybrid (some remote, some in-person)</td>\n      <td>Hobby</td>\n      <td>Bachelor’s degree (B.A., B.S., B.Eng., etc.)</td>\n      <td>Other online resources (e.g., videos, blogs, f...</td>\n      <td>Technical documentation;Blogs;Stack Overflow;O...</td>\n      <td>NaN</td>\n      <td>8</td>\n      <td>...</td>\n      <td>NaN</td>\n      <td>NaN</td>\n      <td>NaN</td>\n      <td>NaN</td>\n      <td>NaN</td>\n      <td>NaN</td>\n      <td>NaN</td>\n      <td>Too long</td>\n      <td>Easy</td>\n      <td>NaN</td>\n    </tr>\n  </tbody>\n</table>\n<p>5 rows × 79 columns</p>\n</div>"
     },
     "execution_count": 5,
     "metadata": {},
     "output_type": "execute_result"
    }
   ],
   "source": [
    "df.head()"
   ],
   "metadata": {
    "collapsed": false,
    "ExecuteTime": {
     "end_time": "2023-06-16T14:59:37.921924928Z",
     "start_time": "2023-06-16T14:59:37.891113195Z"
    }
   }
  },
  {
   "cell_type": "code",
   "execution_count": 7,
   "outputs": [
    {
     "data": {
      "text/plain": "<Axes: xlabel='Country'>"
     },
     "execution_count": 7,
     "metadata": {},
     "output_type": "execute_result"
    },
    {
     "data": {
      "text/plain": "<Figure size 640x480 with 1 Axes>",
      "image/png": "[encoded data removed]"
     },
     "metadata": {},
     "output_type": "display_data"
    }
   ],
   "source": [
    "df.Country.value_counts().head(n=20).plot.bar()"
   ],
   "metadata": {
    "collapsed": false,
    "ExecuteTime": {
     "end_time": "2023-06-16T15:00:33.660092338Z",
     "start_time": "2023-06-16T15:00:32.931817734Z"
    }
   }
  },
  {
   "cell_type": "markdown",
   "source": [
    "# DataPreprocessing"
   ],
   "metadata": {
    "collapsed": false
   }
  },
  {
   "cell_type": "code",
   "execution_count": 8,
   "outputs": [
    {
     "name": "stdout",
     "output_type": "stream",
     "text": [
      "<class 'pandas.core.frame.DataFrame'>\n",
      "RangeIndex: 73268 entries, 0 to 73267\n",
      "Data columns (total 11 columns):\n",
      " #   Column                  Non-Null Count  Dtype  \n",
      "---  ------                  --------------  -----  \n",
      " 0   Employment              71709 non-null  object \n",
      " 1   RemoteWork              58958 non-null  object \n",
      " 2   EdLevel                 71571 non-null  object \n",
      " 3   YearsCode               71331 non-null  object \n",
      " 4   Country                 71771 non-null  object \n",
      " 5   DevType                 61302 non-null  object \n",
      " 6   OrgSize                 51039 non-null  object \n",
      " 7   Currency                51264 non-null  object \n",
      " 8   CompTotal               38422 non-null  float64\n",
      " 9   CompFreq                44425 non-null  object \n",
      " 10  LanguageHaveWorkedWith  70975 non-null  object \n",
      "dtypes: float64(1), object(10)\n",
      "memory usage: 6.1+ MB\n"
     ]
    }
   ],
   "source": [
    "# remove nan's\n",
    "new = df[['Employment', 'RemoteWork', 'EdLevel', 'YearsCode', 'Country', 'DevType', 'OrgSize', 'Currency', 'CompTotal', 'CompFreq', 'LanguageHaveWorkedWith']].copy()\n",
    "new.info()\n",
    "new_df = new.dropna(subset=['Employment', 'DevType', 'Country', 'CompTotal', 'CompFreq', 'LanguageHaveWorkedWith'])"
   ],
   "metadata": {
    "collapsed": false,
    "ExecuteTime": {
     "end_time": "2023-06-16T15:00:43.225093810Z",
     "start_time": "2023-06-16T15:00:43.133465885Z"
    }
   }
  },
  {
   "cell_type": "markdown",
   "source": [
    "### Employment"
   ],
   "metadata": {
    "collapsed": false
   }
  },
  {
   "cell_type": "code",
   "execution_count": 9,
   "outputs": [
    {
     "name": "stderr",
     "output_type": "stream",
     "text": [
      "/tmp/ipykernel_62241/740389380.py:1: SettingWithCopyWarning: \n",
      "A value is trying to be set on a copy of a slice from a DataFrame.\n",
      "Try using .loc[row_indexer,col_indexer] = value instead\n",
      "\n",
      "See the caveats in the documentation: https://pandas.pydata.org/pandas-docs/stable/user_guide/indexing.html#returning-a-view-versus-a-copy\n",
      "  new_df['Employment'] = new_df['Employment'].replace(to_replace=r'^Employed.*$', value='Employed', regex=True)\n",
      "/tmp/ipykernel_62241/740389380.py:2: SettingWithCopyWarning: \n",
      "A value is trying to be set on a copy of a slice from a DataFrame.\n",
      "Try using .loc[row_indexer,col_indexer] = value instead\n",
      "\n",
      "See the caveats in the documentation: https://pandas.pydata.org/pandas-docs/stable/user_guide/indexing.html#returning-a-view-versus-a-copy\n",
      "  new_df['Employment'] = new_df['Employment'].replace(to_replace=r'^Independent.*$', value='Independend', regex=True)\n"
     ]
    },
    {
     "data": {
      "text/plain": "Employment\nEmployed       35135\nIndependend     3004\nName: count, dtype: int64"
     },
     "execution_count": 9,
     "metadata": {},
     "output_type": "execute_result"
    }
   ],
   "source": [
    "new_df['Employment'] = new_df['Employment'].replace(to_replace=r'^Employed.*$', value='Employed', regex=True)\n",
    "new_df['Employment'] = new_df['Employment'].replace(to_replace=r'^Independent.*$', value='Independend', regex=True)\n",
    "new_df.Employment.value_counts()"
   ],
   "metadata": {
    "collapsed": false,
    "ExecuteTime": {
     "end_time": "2023-06-16T15:00:45.445471265Z",
     "start_time": "2023-06-16T15:00:45.373290871Z"
    }
   }
  },
  {
   "cell_type": "code",
   "execution_count": 10,
   "outputs": [
    {
     "name": "stderr",
     "output_type": "stream",
     "text": [
      "/tmp/ipykernel_62241/1260605465.py:1: SettingWithCopyWarning: \n",
      "A value is trying to be set on a copy of a slice from a DataFrame\n",
      "\n",
      "See the caveats in the documentation: https://pandas.pydata.org/pandas-docs/stable/user_guide/indexing.html#returning-a-view-versus-a-copy\n",
      "  new_df.rename(columns={'Employment': \"Employed\"}, inplace=True)\n",
      "/tmp/ipykernel_62241/1260605465.py:4: SettingWithCopyWarning: \n",
      "A value is trying to be set on a copy of a slice from a DataFrame.\n",
      "Try using .loc[row_indexer,col_indexer] = value instead\n",
      "\n",
      "See the caveats in the documentation: https://pandas.pydata.org/pandas-docs/stable/user_guide/indexing.html#returning-a-view-versus-a-copy\n",
      "  new_df['Employed'] = new_df['Employed'].map(mapping)\n"
     ]
    },
    {
     "data": {
      "text/plain": "Employed\n1    35135\n0     3004\nName: count, dtype: int64"
     },
     "execution_count": 10,
     "metadata": {},
     "output_type": "execute_result"
    }
   ],
   "source": [
    "new_df.rename(columns={'Employment': \"Employed\"}, inplace=True)\n",
    "\n",
    "mapping = {'Employed': 1, 'Independend': 0}\n",
    "new_df['Employed'] = new_df['Employed'].map(mapping)\n",
    "new_df.Employed.value_counts()"
   ],
   "metadata": {
    "collapsed": false,
    "ExecuteTime": {
     "end_time": "2023-06-16T15:00:46.653311727Z",
     "start_time": "2023-06-16T15:00:46.609661702Z"
    }
   }
  },
  {
   "cell_type": "markdown",
   "source": [
    "### Preprocess: RemoteWork"
   ],
   "metadata": {
    "collapsed": false
   }
  },
  {
   "cell_type": "code",
   "execution_count": 11,
   "outputs": [
    {
     "name": "stderr",
     "output_type": "stream",
     "text": [
      "/tmp/ipykernel_62241/1736269204.py:2: SettingWithCopyWarning: \n",
      "A value is trying to be set on a copy of a slice from a DataFrame.\n",
      "Try using .loc[row_indexer,col_indexer] = value instead\n",
      "\n",
      "See the caveats in the documentation: https://pandas.pydata.org/pandas-docs/stable/user_guide/indexing.html#returning-a-view-versus-a-copy\n",
      "  new_df['RemoteWork'] = new_df['RemoteWork'].replace(to_replace=r'^Fully remote.*$', value='remote', regex=True)\n",
      "/tmp/ipykernel_62241/1736269204.py:3: SettingWithCopyWarning: \n",
      "A value is trying to be set on a copy of a slice from a DataFrame.\n",
      "Try using .loc[row_indexer,col_indexer] = value instead\n",
      "\n",
      "See the caveats in the documentation: https://pandas.pydata.org/pandas-docs/stable/user_guide/indexing.html#returning-a-view-versus-a-copy\n",
      "  new_df['RemoteWork'] = new_df['RemoteWork'].replace(to_replace=r'^Hybrid.*$', value='hybrid', regex=True)\n",
      "/tmp/ipykernel_62241/1736269204.py:4: SettingWithCopyWarning: \n",
      "A value is trying to be set on a copy of a slice from a DataFrame.\n",
      "Try using .loc[row_indexer,col_indexer] = value instead\n",
      "\n",
      "See the caveats in the documentation: https://pandas.pydata.org/pandas-docs/stable/user_guide/indexing.html#returning-a-view-versus-a-copy\n",
      "  new_df['RemoteWork'] = new_df['RemoteWork'].replace(to_replace=r'^Full in-person.*$', value='office', regex=True)\n"
     ]
    },
    {
     "data": {
      "text/plain": "RemoteWork\nremote    17510\nhybrid    16040\noffice     4583\nName: count, dtype: int64"
     },
     "execution_count": 11,
     "metadata": {},
     "output_type": "execute_result"
    }
   ],
   "source": [
    "#RemoteWork\n",
    "new_df['RemoteWork'] = new_df['RemoteWork'].replace(to_replace=r'^Fully remote.*$', value='remote', regex=True)\n",
    "new_df['RemoteWork'] = new_df['RemoteWork'].replace(to_replace=r'^Hybrid.*$', value='hybrid', regex=True)\n",
    "new_df['RemoteWork'] = new_df['RemoteWork'].replace(to_replace=r'^Full in-person.*$', value='office', regex=True)\n",
    "\n",
    "new_df.RemoteWork.value_counts()"
   ],
   "metadata": {
    "collapsed": false,
    "ExecuteTime": {
     "end_time": "2023-06-16T15:00:48.609326528Z",
     "start_time": "2023-06-16T15:00:48.514662269Z"
    }
   }
  },
  {
   "cell_type": "markdown",
   "source": [
    "### EdLevel"
   ],
   "metadata": {
    "collapsed": false
   }
  },
  {
   "cell_type": "code",
   "execution_count": 12,
   "outputs": [
    {
     "data": {
      "text/plain": "EdLevel\nBachelor’s degree (B.A., B.S., B.Eng., etc.)                                          18119\nMaster’s degree (M.A., M.S., M.Eng., MBA, etc.)                                        9893\nSome college/university study without earning a degree                                 4498\nSecondary school (e.g. American high school, German Realschule or Gymnasium, etc.)     1782\nOther doctoral degree (Ph.D., Ed.D., etc.)                                             1361\nAssociate degree (A.A., A.S., etc.)                                                    1271\nProfessional degree (JD, MD, etc.)                                                      619\nSomething else                                                                          355\nPrimary/elementary school                                                               227\nName: count, dtype: int64"
     },
     "execution_count": 12,
     "metadata": {},
     "output_type": "execute_result"
    }
   ],
   "source": [
    "new_df.EdLevel.value_counts()"
   ],
   "metadata": {
    "collapsed": false,
    "ExecuteTime": {
     "end_time": "2023-06-16T15:00:50.980720029Z",
     "start_time": "2023-06-16T15:00:50.965029966Z"
    }
   }
  },
  {
   "cell_type": "code",
   "execution_count": 13,
   "outputs": [
    {
     "name": "stderr",
     "output_type": "stream",
     "text": [
      "/tmp/ipykernel_62241/550438001.py:12: SettingWithCopyWarning: \n",
      "A value is trying to be set on a copy of a slice from a DataFrame.\n",
      "Try using .loc[row_indexer,col_indexer] = value instead\n",
      "\n",
      "See the caveats in the documentation: https://pandas.pydata.org/pandas-docs/stable/user_guide/indexing.html#returning-a-view-versus-a-copy\n",
      "  new_df['EdLevel'] = new_df['EdLevel'].map(mapping)\n"
     ]
    },
    {
     "data": {
      "text/plain": "EdLevel\n6.0    18119\n7.0     9893\n4.0     4498\n2.0     1782\n8.0     1361\n5.0     1271\n3.0      619\n0.0      355\n1.0      227\nName: count, dtype: int64"
     },
     "execution_count": 13,
     "metadata": {},
     "output_type": "execute_result"
    }
   ],
   "source": [
    "mapping = {\n",
    "'Other doctoral degree (Ph.D., Ed.D., etc.)': 8,\n",
    "'Master’s degree (M.A., M.S., M.Eng., MBA, etc.)': 7,\n",
    "'Bachelor’s degree (B.A., B.S., B.Eng., etc.)': 6,\n",
    "'Associate degree (A.A., A.S., etc.)': 5,\n",
    "'Some college/university study without earning a degree': 4,\n",
    "'Professional degree (JD, MD, etc.)': 3,\n",
    "'Secondary school (e.g. American high school, German Realschule or Gymnasium, etc.)': 2,\n",
    "'Primary/elementary school': 1,\n",
    "'Something else': 0\n",
    "}\n",
    "new_df['EdLevel'] = new_df['EdLevel'].map(mapping)\n",
    "new_df['EdLevel'].value_counts()"
   ],
   "metadata": {
    "collapsed": false,
    "ExecuteTime": {
     "end_time": "2023-06-16T15:01:02.636204875Z",
     "start_time": "2023-06-16T15:01:02.593477546Z"
    }
   }
  },
  {
   "cell_type": "markdown",
   "source": [
    "### Organization Size"
   ],
   "metadata": {
    "collapsed": false
   }
  },
  {
   "cell_type": "code",
   "execution_count": 14,
   "outputs": [
    {
     "name": "stderr",
     "output_type": "stream",
     "text": [
      "/tmp/ipykernel_62241/2506200709.py:13: SettingWithCopyWarning: \n",
      "A value is trying to be set on a copy of a slice from a DataFrame.\n",
      "Try using .loc[row_indexer,col_indexer] = value instead\n",
      "\n",
      "See the caveats in the documentation: https://pandas.pydata.org/pandas-docs/stable/user_guide/indexing.html#returning-a-view-versus-a-copy\n",
      "  new_df['OrgSize'] = new_df['OrgSize'].map(mapping)\n"
     ]
    },
    {
     "data": {
      "text/plain": "OrgSize\n4.0    7991\n5.0    7297\n9.0    5280\n7.0    4513\n2.0    3353\n3.0    3191\n6.0    2818\n8.0    1721\n1.0    1439\n0.0     515\nName: count, dtype: int64"
     },
     "execution_count": 14,
     "metadata": {},
     "output_type": "execute_result"
    }
   ],
   "source": [
    "mapping = {\n",
    "    '10,000 or more employees': 9,\n",
    "    '5,000 to 9,999 employees': 8,\n",
    "    '1,000 to 4,999 employees': 7,\n",
    "    '500 to 999 employees': 6,\n",
    "    '100 to 499 employees': 5,\n",
    "    '20 to 99 employees': 4,\n",
    "    '10 to 19 employees': 3,\n",
    "    '2 to 9 employees': 2,\n",
    "    'Just me - I am a freelancer, sole proprietor, etc.': 1,\n",
    "    'I don’t know': 0\n",
    "}\n",
    "new_df['OrgSize'] = new_df['OrgSize'].map(mapping)\n",
    "new_df['OrgSize'].value_counts()"
   ],
   "metadata": {
    "collapsed": false,
    "ExecuteTime": {
     "end_time": "2023-06-16T15:01:07.312088413Z",
     "start_time": "2023-06-16T15:01:07.298120047Z"
    }
   }
  },
  {
   "cell_type": "markdown",
   "source": [
    "### DevType"
   ],
   "metadata": {
    "collapsed": false
   }
  },
  {
   "cell_type": "code",
   "execution_count": 26,
   "outputs": [
    {
     "data": {
      "text/plain": "DevType\nDeveloper, full-stack                                                                                                                                                                                                                                                                                     5015\nDeveloper, back-end                                                                                                                                                                                                                                                                                       3829\nDeveloper, front-end                                                                                                                                                                                                                                                                                      1550\nDeveloper, front-end;Developer, full-stack;Developer, back-end                                                                                                                                                                                                                                            1272\nDeveloper, full-stack;Developer, back-end                                                                                                                                                                                                                                                                 1118\n                                                                                                                                                                                                                                                                                                          ... \nDeveloper, front-end;Developer, mobile;Engineering manager;Security professional                                                                                                                                                                                                                             1\nDeveloper, front-end;Developer, desktop or enterprise applications;Developer, mobile;Security professional                                                                                                                                                                                                   1\nDeveloper, full-stack;Developer, back-end;Academic researcher;Data or business analyst                                                                                                                                                                                                                       1\nDeveloper, front-end;Developer, full-stack;Developer, back-end;Developer, desktop or enterprise applications;Developer, mobile;Educator;Engineering manager;Developer, embedded applications or devices;Developer, game or graphics;Cloud infrastructure engineer;Senior Executive (C-Suite, VP, etc.)       1\nData scientist or machine learning specialist;Developer, back-end;Project manager;Data or business analyst                                                                                                                                                                                                   1\nName: count, Length: 6581, dtype: int64"
     },
     "execution_count": 26,
     "metadata": {},
     "output_type": "execute_result"
    }
   ],
   "source": [
    "new_df.DevType.value_counts()"
   ],
   "metadata": {
    "collapsed": false,
    "ExecuteTime": {
     "end_time": "2023-06-16T14:36:53.880880132Z",
     "start_time": "2023-06-16T14:36:53.857707010Z"
    }
   }
  },
  {
   "cell_type": "code",
   "execution_count": null,
   "outputs": [],
   "source": [],
   "metadata": {
    "collapsed": false
   }
  },
  {
   "cell_type": "markdown",
   "source": [
    "### ProgrammingLanguages"
   ],
   "metadata": {
    "collapsed": false
   }
  },
  {
   "cell_type": "code",
   "execution_count": null,
   "outputs": [],
   "source": [
    "\n",
    "categories = {}\n",
    "for cell in df['LanguageHaveWorkedWith']:\n",
    "    # print(cell)\n",
    "    temp = str(cell).split(';')\n",
    "    for i in temp:\n",
    "        if i not in categories:\n",
    "            categories[i] = 0\n",
    "        categories[i] += 1\n",
    "\n",
    "print(categories)"
   ],
   "metadata": {
    "collapsed": false
   }
  },
  {
   "cell_type": "markdown",
   "source": [
    "### Export"
   ],
   "metadata": {
    "collapsed": false
   }
  },
  {
   "cell_type": "code",
   "execution_count": 15,
   "outputs": [
    {
     "data": {
      "text/plain": "    Employed RemoteWork  EdLevel YearsCode  \\\n2          1     hybrid      7.0        14   \n3          1     remote      6.0        20   \n10         1     hybrid      6.0         5   \n11         1     remote      6.0        12   \n12         1     hybrid      6.0        12   \n\n                                              Country  \\\n2   United Kingdom of Great Britain and Northern I...   \n3                                              Israel   \n10  United Kingdom of Great Britain and Northern I...   \n11                           United States of America   \n12                           United States of America   \n\n                                              DevType  OrgSize  \\\n2   Data scientist or machine learning specialist;...      4.0   \n3                               Developer, full-stack      5.0   \n10          Developer, full-stack;Developer, back-end      5.0   \n11                                Engineering manager      4.0   \n12                              Developer, full-stack      2.0   \n\n                     Currency  CompTotal CompFreq  \\\n2         GBP\\tPound sterling    32000.0   Yearly   \n3     ILS\\tIsraeli new shekel    60000.0  Monthly   \n10        GBP\\tPound sterling    48000.0   Yearly   \n11  USD\\tUnited States dollar   194400.0   Yearly   \n12  USD\\tUnited States dollar    65000.0   Yearly   \n\n                               LanguageHaveWorkedWith  \n2                   C#;C++;HTML/CSS;JavaScript;Python  \n3                        C#;JavaScript;SQL;TypeScript  \n10   Bash/Shell;C#;HTML/CSS;JavaScript;PowerShell;SQL  \n11  C#;HTML/CSS;JavaScript;PowerShell;Python;Rust;SQL  \n12               C;HTML/CSS;Rust;SQL;Swift;TypeScript  ",
      "text/html": "<div>\n<style scoped>\n    .dataframe tbody tr th:only-of-type {\n        vertical-align: middle;\n    }\n\n    .dataframe tbody tr th {\n        vertical-align: top;\n    }\n\n    .dataframe thead th {\n        text-align: right;\n    }\n</style>\n<table border=\"1\" class=\"dataframe\">\n  <thead>\n    <tr style=\"text-align: right;\">\n      <th></th>\n      <th>Employed</th>\n      <th>RemoteWork</th>\n      <th>EdLevel</th>\n      <th>YearsCode</th>\n      <th>Country</th>\n      <th>DevType</th>\n      <th>OrgSize</th>\n      <th>Currency</th>\n      <th>CompTotal</th>\n      <th>CompFreq</th>\n      <th>LanguageHaveWorkedWith</th>\n    </tr>\n  </thead>\n  <tbody>\n    <tr>\n      <th>2</th>\n      <td>1</td>\n      <td>hybrid</td>\n      <td>7.0</td>\n      <td>14</td>\n      <td>United Kingdom of Great Britain and Northern I...</td>\n      <td>Data scientist or machine learning specialist;...</td>\n      <td>4.0</td>\n      <td>GBP\\tPound sterling</td>\n      <td>32000.0</td>\n      <td>Yearly</td>\n      <td>C#;C++;HTML/CSS;JavaScript;Python</td>\n    </tr>\n    <tr>\n      <th>3</th>\n      <td>1</td>\n      <td>remote</td>\n      <td>6.0</td>\n      <td>20</td>\n      <td>Israel</td>\n      <td>Developer, full-stack</td>\n      <td>5.0</td>\n      <td>ILS\\tIsraeli new shekel</td>\n      <td>60000.0</td>\n      <td>Monthly</td>\n      <td>C#;JavaScript;SQL;TypeScript</td>\n    </tr>\n    <tr>\n      <th>10</th>\n      <td>1</td>\n      <td>hybrid</td>\n      <td>6.0</td>\n      <td>5</td>\n      <td>United Kingdom of Great Britain and Northern I...</td>\n      <td>Developer, full-stack;Developer, back-end</td>\n      <td>5.0</td>\n      <td>GBP\\tPound sterling</td>\n      <td>48000.0</td>\n      <td>Yearly</td>\n      <td>Bash/Shell;C#;HTML/CSS;JavaScript;PowerShell;SQL</td>\n    </tr>\n    <tr>\n      <th>11</th>\n      <td>1</td>\n      <td>remote</td>\n      <td>6.0</td>\n      <td>12</td>\n      <td>United States of America</td>\n      <td>Engineering manager</td>\n      <td>4.0</td>\n      <td>USD\\tUnited States dollar</td>\n      <td>194400.0</td>\n      <td>Yearly</td>\n      <td>C#;HTML/CSS;JavaScript;PowerShell;Python;Rust;SQL</td>\n    </tr>\n    <tr>\n      <th>12</th>\n      <td>1</td>\n      <td>hybrid</td>\n      <td>6.0</td>\n      <td>12</td>\n      <td>United States of America</td>\n      <td>Developer, full-stack</td>\n      <td>2.0</td>\n      <td>USD\\tUnited States dollar</td>\n      <td>65000.0</td>\n      <td>Yearly</td>\n      <td>C;HTML/CSS;Rust;SQL;Swift;TypeScript</td>\n    </tr>\n  </tbody>\n</table>\n</div>"
     },
     "execution_count": 15,
     "metadata": {},
     "output_type": "execute_result"
    }
   ],
   "source": [
    "new_df.head()"
   ],
   "metadata": {
    "collapsed": false,
    "ExecuteTime": {
     "end_time": "2023-06-16T15:01:21.974158625Z",
     "start_time": "2023-06-16T15:01:21.936122251Z"
    }
   }
  },
  {
   "cell_type": "code",
   "execution_count": 16,
   "outputs": [],
   "source": [
    "new_df.to_csv('Data/surveydata_v2.csv')"
   ],
   "metadata": {
    "collapsed": false,
    "ExecuteTime": {
     "end_time": "2023-06-16T15:01:33.157351858Z",
     "start_time": "2023-06-16T15:01:32.942945024Z"
    }
   }
  },
  {
   "cell_type": "code",
   "execution_count": null,
   "outputs": [],
   "source": [],
   "metadata": {
    "collapsed": false
   }
  }
 ],
 "metadata": {
  "kernelspec": {
   "display_name": "Python 3",
   "language": "python",
   "name": "python3"
  },
  "language_info": {
   "codemirror_mode": {
    "name": "ipython",
    "version": 2
   },
   "file_extension": ".py",
   "mimetype": "text/x-python",
   "name": "python",
   "nbconvert_exporter": "python",
   "pygments_lexer": "ipython2",
   "version": "2.7.6"
  }
 },
 "nbformat": 4,
 "nbformat_minor": 0
}
