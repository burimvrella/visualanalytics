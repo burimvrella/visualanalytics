{
 "cells": [
  {
   "cell_type": "code",
   "execution_count": null,
   "metadata": {
    "ExecuteTime": {
     "end_time": "2023-06-22T10:30:53.439069025Z",
     "start_time": "2023-06-22T10:30:53.129530198Z"
    },
    "collapsed": true
   },
   "outputs": [],
   "source": [
    "import pandas as pd\n",
    "from currency_converter import CurrencyConverter\n",
    "from sklearn.preprocessing import MultiLabelBinarizer\n"
   ]
  },
  {
   "cell_type": "code",
   "execution_count": null,
   "metadata": {
    "ExecuteTime": {
     "end_time": "2023-06-22T10:30:57.214601297Z",
     "start_time": "2023-06-22T10:30:55.559960261Z"
    },
    "collapsed": false
   },
   "outputs": [],
   "source": [
    "df = pd.read_csv('Data/survey_results_public.csv') #not included in the repo"
   ]
  },
  {
   "cell_type": "code",
   "execution_count": null,
   "metadata": {
    "ExecuteTime": {
     "end_time": "2023-06-16T16:35:10.287793932Z",
     "start_time": "2023-06-16T16:35:10.243095070Z"
    },
    "collapsed": false
   },
   "outputs": [],
   "source": [
    "df.head()"
   ]
  },
  {
   "cell_type": "code",
   "execution_count": null,
   "metadata": {
    "ExecuteTime": {
     "end_time": "2023-06-16T16:35:10.598798852Z",
     "start_time": "2023-06-16T16:35:10.287983829Z"
    },
    "collapsed": false
   },
   "outputs": [],
   "source": [
    "df.Country.value_counts().head(n=20).plot.bar()"
   ]
  },
  {
   "attachments": {},
   "cell_type": "markdown",
   "metadata": {
    "collapsed": false
   },
   "source": [
    "# DataPreprocessing"
   ]
  },
  {
   "cell_type": "code",
   "execution_count": null,
   "metadata": {
    "ExecuteTime": {
     "end_time": "2023-06-22T10:31:01.238663386Z",
     "start_time": "2023-06-22T10:31:01.161023066Z"
    },
    "collapsed": false
   },
   "outputs": [],
   "source": [
    "# remove nan's\n",
    "new = df[['Employment', 'RemoteWork', 'EdLevel', 'YearsCode', 'Country', 'OrgSize', 'Currency', 'CompTotal', 'CompFreq', 'LanguageHaveWorkedWith']].copy()\n",
    "new.info()\n",
    "new_df = new.dropna(subset=['Employment', 'Country', 'CompTotal', 'CompFreq', 'LanguageHaveWorkedWith'])"
   ]
  },
  {
   "attachments": {},
   "cell_type": "markdown",
   "metadata": {
    "collapsed": false
   },
   "source": [
    "### Employment"
   ]
  },
  {
   "cell_type": "code",
   "execution_count": null,
   "metadata": {
    "ExecuteTime": {
     "end_time": "2023-06-22T10:31:03.823950508Z",
     "start_time": "2023-06-22T10:31:03.755794499Z"
    },
    "collapsed": false
   },
   "outputs": [],
   "source": [
    "new_df['Employment'] = new_df['Employment'].replace(to_replace=r'^Employed.*$', value='Employed', regex=True)\n",
    "new_df['Employment'] = new_df['Employment'].replace(to_replace=r'^Independent.*$', value='Independend', regex=True)\n",
    "new_df.Employment.value_counts()"
   ]
  },
  {
   "cell_type": "code",
   "execution_count": null,
   "metadata": {
    "ExecuteTime": {
     "end_time": "2023-06-22T10:31:04.299337776Z",
     "start_time": "2023-06-22T10:31:04.273681553Z"
    },
    "collapsed": false
   },
   "outputs": [],
   "source": [
    "new_df.rename(columns={'Employment': \"Employed\"}, inplace=True)\n",
    "\n",
    "mapping = {'Employed': 1, 'Independend': 0}\n",
    "new_df['Employed'] = new_df['Employed'].map(mapping)\n",
    "new_df.Employed.value_counts()"
   ]
  },
  {
   "attachments": {},
   "cell_type": "markdown",
   "metadata": {
    "collapsed": false
   },
   "source": [
    "### Preprocess: RemoteWork"
   ]
  },
  {
   "cell_type": "code",
   "execution_count": null,
   "metadata": {
    "ExecuteTime": {
     "end_time": "2023-06-22T10:31:06.514462536Z",
     "start_time": "2023-06-22T10:31:06.318734167Z"
    },
    "collapsed": false
   },
   "outputs": [],
   "source": [
    "#RemoteWork\n",
    "new_df['RemoteWork'] = new_df['RemoteWork'].replace(to_replace=r'^Fully remote.*$', value='remote', regex=True)\n",
    "new_df['RemoteWork'] = new_df['RemoteWork'].replace(to_replace=r'^Hybrid.*$', value='hybrid', regex=True)\n",
    "new_df['RemoteWork'] = new_df['RemoteWork'].replace(to_replace=r'^Full in-person.*$', value='office', regex=True)\n",
    "\n",
    "new_df.RemoteWork.value_counts()"
   ]
  },
  {
   "attachments": {},
   "cell_type": "markdown",
   "metadata": {
    "collapsed": false
   },
   "source": [
    "### EdLevel"
   ]
  },
  {
   "cell_type": "code",
   "execution_count": null,
   "metadata": {
    "ExecuteTime": {
     "end_time": "2023-06-22T10:31:08.151669882Z",
     "start_time": "2023-06-22T10:31:08.124618644Z"
    },
    "collapsed": false
   },
   "outputs": [],
   "source": [
    "new_df.EdLevel.value_counts()"
   ]
  },
  {
   "cell_type": "code",
   "execution_count": null,
   "metadata": {
    "ExecuteTime": {
     "end_time": "2023-06-22T10:31:09.162572046Z",
     "start_time": "2023-06-22T10:31:09.155181981Z"
    },
    "collapsed": false
   },
   "outputs": [],
   "source": [
    "mapping = {\n",
    "'Other doctoral degree (Ph.D., Ed.D., etc.)': 8,\n",
    "'Master’s degree (M.A., M.S., M.Eng., MBA, etc.)': 7,\n",
    "'Bachelor’s degree (B.A., B.S., B.Eng., etc.)': 6,\n",
    "'Associate degree (A.A., A.S., etc.)': 5,\n",
    "'Some college/university study without earning a degree': 4,\n",
    "'Professional degree (JD, MD, etc.)': 3,\n",
    "'Secondary school (e.g. American high school, German Realschule or Gymnasium, etc.)': 2,\n",
    "'Primary/elementary school': 1,\n",
    "'Something else': 0\n",
    "}\n",
    "new_df['EdLevel'] = new_df['EdLevel'].map(mapping)\n",
    "new_df['EdLevel'].value_counts()"
   ]
  },
  {
   "attachments": {},
   "cell_type": "markdown",
   "metadata": {
    "collapsed": false
   },
   "source": [
    "### Organization Size"
   ]
  },
  {
   "cell_type": "code",
   "execution_count": null,
   "metadata": {
    "ExecuteTime": {
     "end_time": "2023-06-22T10:31:11.555326958Z",
     "start_time": "2023-06-22T10:31:11.543037478Z"
    },
    "collapsed": false
   },
   "outputs": [],
   "source": [
    "mapping = {\n",
    "    '10,000 or more employees': 9,\n",
    "    '5,000 to 9,999 employees': 8,\n",
    "    '1,000 to 4,999 employees': 7,\n",
    "    '500 to 999 employees': 6,\n",
    "    '100 to 499 employees': 5,\n",
    "    '20 to 99 employees': 4,\n",
    "    '10 to 19 employees': 3,\n",
    "    '2 to 9 employees': 2,\n",
    "    'Just me - I am a freelancer, sole proprietor, etc.': 1,\n",
    "    'I don’t know': 0\n",
    "}\n",
    "new_df['OrgSize'] = new_df['OrgSize'].map(mapping)\n",
    "new_df['OrgSize'].value_counts()"
   ]
  },
  {
   "attachments": {},
   "cell_type": "markdown",
   "metadata": {
    "collapsed": false
   },
   "source": [
    "## Compensation"
   ]
  },
  {
   "cell_type": "code",
   "execution_count": null,
   "metadata": {
    "ExecuteTime": {
     "end_time": "2023-06-22T10:31:13.699841843Z",
     "start_time": "2023-06-22T10:31:13.669257313Z"
    },
    "collapsed": false
   },
   "outputs": [],
   "source": [
    "new_df.Currency.value_counts()"
   ]
  },
  {
   "cell_type": "code",
   "execution_count": null,
   "metadata": {
    "ExecuteTime": {
     "end_time": "2023-06-22T10:31:14.674711624Z",
     "start_time": "2023-06-22T10:31:14.648596712Z"
    },
    "collapsed": false
   },
   "outputs": [],
   "source": [
    "mapping = {\n",
    "    'Yearly': 1,\n",
    "    'Monthly': 12,\n",
    "    'Weekly': 52\n",
    "}\n",
    "new_df['CompFreq'] = new_df['CompFreq'].map(mapping)\n",
    "new_df['CompFreq'].value_counts()"
   ]
  },
  {
   "cell_type": "code",
   "execution_count": null,
   "metadata": {
    "ExecuteTime": {
     "end_time": "2023-06-22T10:31:25.035430747Z",
     "start_time": "2023-06-22T10:31:16.040559740Z"
    },
    "collapsed": false
   },
   "outputs": [],
   "source": [
    "c = CurrencyConverter(\"Data/eurofxref-hist.csv\")\n",
    "new_df['CompYearEur'] = 0\n",
    "\n",
    "currencies_not_supported = []\n",
    "for index, row in new_df.iterrows():\n",
    "    currency = row.Currency[:3]\n",
    "    try:\n",
    "        compensation_eur = c.convert(row.CompTotal, currency, 'EUR') * row.CompFreq\n",
    "    except ValueError as e:\n",
    "        currencies_not_supported.append(currency)\n",
    "        compensation_eur = c.convert(row.CompTotal, 'USD', 'EUR') * row.CompFreq\n",
    "    new_df.at[index, 'CompYearEur'] = compensation_eur\n",
    "\n",
    "new_df = new_df[new_df[\"CompYearEur\"] < 1000000]\n",
    "\n",
    "new_df = new_df.round({\"CompYearEur\":0})\n",
    "\n",
    "print(new_df)\n"
   ]
  },
  {
   "cell_type": "code",
   "execution_count": null,
   "metadata": {
    "ExecuteTime": {
     "end_time": "2023-06-22T10:31:25.036011173Z",
     "start_time": "2023-06-22T10:31:25.022574861Z"
    },
    "collapsed": false
   },
   "outputs": [],
   "source": [
    "new_df.drop('Currency', axis=1, inplace=True)\n",
    "new_df.drop('CompTotal', axis=1, inplace=True)\n",
    "new_df.drop('CompFreq', axis=1, inplace=True)"
   ]
  },
  {
   "attachments": {},
   "cell_type": "markdown",
   "metadata": {
    "collapsed": false
   },
   "source": [
    "### Countries"
   ]
  },
  {
   "cell_type": "code",
   "execution_count": null,
   "metadata": {
    "ExecuteTime": {
     "end_time": "2023-06-22T10:33:42.562508721Z",
     "start_time": "2023-06-22T10:33:42.521146826Z"
    },
    "collapsed": false
   },
   "outputs": [],
   "source": [
    "mapping = {\n",
    "    'United Kingdom of Great Britain and Northern Ireland': \"United Kingdom\",\n",
    "    'Czech Republic': 'Czechia',\n",
    "    'Russian Federation': 'Russia',\n",
    "    'Viet Nam': 'Vietnam',\n",
    "    'Hong Kong (S.A.R.)': 'Hong Kong',\n",
    "    'Bosnia and Herzegovina': 'Bosnia and Herz.',\n",
    "    'Iran, Islamic Republic of...': 'Iran',\n",
    "    'Republic of Korea': 'North Korea',\n",
    "    'The former Yugoslav Republic of Macedonia': 'Macedonia',\n",
    "    'Syrian Arab Republic': 'Syria',\n",
    "    'Republic of Moldova': 'Moldova',\n",
    "    'United Republic of Tanzania': 'Tanzania',\n",
    "    'Dominican Republic': 'Dominican Rep.',\n",
    "    'Venezuela, Bolivarian Republic of...': 'Venezuela',\n",
    "    \"Lao People's Democratic Republic\": 'Laos',\n",
    "    'Democratic Republic of the Congo': 'Dem. Rep. Congo',\n",
    "    'Congo, Republic of the...': 'Congo',\n",
    "    'Libyan Arab Jamahiriya': 'Libya',\n",
    "    'Cape Verde': 'Cabo Verde'\n",
    "}\n",
    "new_df['Country'] = new_df['Country'].replace(mapping)\n",
    "new_df['Country'].value_counts()\n"
   ]
  },
  {
   "cell_type": "code",
   "execution_count": null,
   "metadata": {
    "ExecuteTime": {
     "end_time": "2023-06-22T09:29:11.762330929Z",
     "start_time": "2023-06-22T09:29:11.714458838Z"
    },
    "collapsed": false
   },
   "outputs": [],
   "source": [
    "new_df.Country.value_counts()"
   ]
  },
  {
   "attachments": {},
   "cell_type": "markdown",
   "metadata": {
    "collapsed": false
   },
   "source": [
    "### ProgrammingLanguages"
   ]
  },
  {
   "cell_type": "code",
   "execution_count": null,
   "metadata": {
    "collapsed": false
   },
   "outputs": [],
   "source": [
    "categories = {}\n",
    "\n",
    "new_df['LanguageHaveWorkedWith'] = new_df['LanguageHaveWorkedWith'].str.split(';')\n",
    "\n",
    "mlb = MultiLabelBinarizer()\n",
    "one_hot_encoded = pd.DataFrame(mlb.fit_transform(new_df['LanguageHaveWorkedWith']),\n",
    "                               columns=mlb.classes_,\n",
    "                               index=new_df.index)\n",
    "\n",
    "one_hot_encoded.rename(columns={col: '#' + col for col in one_hot_encoded.columns}, inplace=True)\n",
    "\n",
    "new_df = pd.concat([new_df, one_hot_encoded], axis=1)\n",
    "\n",
    "new_df.drop([\"LanguageHaveWorkedWith\"], axis=1, inplace=True)\n"
   ]
  },
  {
   "attachments": {},
   "cell_type": "markdown",
   "metadata": {
    "collapsed": false
   },
   "source": [
    "### Export"
   ]
  },
  {
   "cell_type": "code",
   "execution_count": null,
   "metadata": {
    "ExecuteTime": {
     "end_time": "2023-06-22T10:33:56.324654499Z",
     "start_time": "2023-06-22T10:33:56.135735881Z"
    },
    "collapsed": false
   },
   "outputs": [],
   "source": [
    "new_df.to_csv('Data/surveydata_v4.csv', index=False)"
   ]
  },
  {
   "cell_type": "code",
   "execution_count": null,
   "metadata": {
    "collapsed": false
   },
   "outputs": [],
   "source": []
  }
 ],
 "metadata": {
  "kernelspec": {
   "display_name": "Python 3",
   "language": "python",
   "name": "python3"
  },
  "language_info": {
   "codemirror_mode": {
    "name": "ipython",
    "version": 3
   },
   "file_extension": ".py",
   "mimetype": "text/x-python",
   "name": "python",
   "nbconvert_exporter": "python",
   "pygments_lexer": "ipython3",
   "version": "3.10.6"
  }
 },
 "nbformat": 4,
 "nbformat_minor": 0
}
